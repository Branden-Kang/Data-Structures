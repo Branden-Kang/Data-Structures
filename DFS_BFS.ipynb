{
 "cells": [
  {
   "cell_type": "code",
   "execution_count": 17,
   "metadata": {},
   "outputs": [
    {
     "name": "stdout",
     "output_type": "stream",
     "text": [
      "A\n",
      "B\n",
      "D\n",
      "E\n",
      "C\n"
     ]
    }
   ],
   "source": [
    "# Using a Python dictionary to act as an adjacency list\n",
    "'''The illustrated graph is represented using \n",
    "an adjacency list - an easy way to do it in Python \n",
    "is to use a dictionary data structure.\n",
    "Each vertex has a list of its adjacent nodes stored.'''\n",
    "graph = {\n",
    "    'A' : ['B','C'],\n",
    "    'B' : ['D', 'E'],\n",
    "    'C' : [],\n",
    "    'D' : [],\n",
    "    'E' : []\n",
    "}\n",
    "\n",
    "# visited is a set that is used to keep track of visited nodes.\n",
    "visited = set() \n",
    "\n",
    "'''dfs follows the algorithm described:\n",
    "1. It first checks if the current node is unvisited - if yes, it is appended in the visited set.\n",
    "2. Then for each neighbor of the current node, the dfs function is invoked again.\n",
    "3. The base case is invoked when all the nodes are visited. The function then returns.'''\n",
    "\n",
    "def dfs(visited, graph, node):\n",
    "    if node not in visited:\n",
    "        print (node)\n",
    "        visited.add(node)\n",
    "        for neighbor in graph[node]:\n",
    "            dfs(visited, graph, neighbor)\n",
    "\n",
    "# Driver Code\n",
    "'''The dfs function is called and is passed the visited set,\n",
    "the graph in the form of a dictionary, and A, \n",
    "which is the starting node (root node).'''\n",
    "dfs(visited, graph, 'A')"
   ]
  },
  {
   "cell_type": "code",
   "execution_count": 18,
   "metadata": {},
   "outputs": [
    {
     "name": "stdout",
     "output_type": "stream",
     "text": [
      "A B C D E "
     ]
    }
   ],
   "source": [
    "'''The illustrated graph is represented using an adjacency list. \n",
    "An easy way to do this in Python is to use a dictionary data structure,\n",
    "where each vertex has a stored list of its adjacent nodes.'''\n",
    "graph = {\n",
    "  'A' : ['B','C'],\n",
    "  'B' : ['D', 'E'],\n",
    "  'C' : [],\n",
    "  'D' : [],\n",
    "  'E' : []\n",
    "}\n",
    "\n",
    "visited = [] # List to keep track of visited nodes.\n",
    "# queue is a list that is used to keep track of nodes currently in the queue.\n",
    "queue = []     #Initialize a queue\n",
    "\n",
    "'''bfs follows the algorithm:\n",
    "1. It checks and appends the starting node to the visited list and the queue.\n",
    "2. Then, while the queue contains elements, \n",
    "it keeps taking out nodes from the queue, \n",
    "appends the neighbors of that node to the queue if they are unvisited, \n",
    "and marks them as visited.\n",
    "3. This continues until the queue is empty.'''\n",
    "\n",
    "def bfs(visited, graph, node):\n",
    "    visited.append(node)\n",
    "    queue.append(node)\n",
    "    \n",
    "    while queue:\n",
    "        s = queue.pop(0) \n",
    "        print (s, end = \" \") \n",
    "        \n",
    "        for neighbor in graph[s]:\n",
    "            if neighbor not in visited:\n",
    "                visited.append(neighbor)\n",
    "                queue.append(neighbor)\n",
    "\n",
    "# Driver Code\n",
    "'''The arguments of the bfs function are the visited list, \n",
    "the graph in the form of a dictionary, \n",
    "and the starting node A.'''\n",
    "bfs(visited, graph, 'A')"
   ]
  },
  {
   "cell_type": "code",
   "execution_count": null,
   "metadata": {},
   "outputs": [],
   "source": []
  }
 ],
 "metadata": {
  "kernelspec": {
   "display_name": "Python 3",
   "language": "python",
   "name": "python3"
  },
  "language_info": {
   "codemirror_mode": {
    "name": "ipython",
    "version": 3
   },
   "file_extension": ".py",
   "mimetype": "text/x-python",
   "name": "python",
   "nbconvert_exporter": "python",
   "pygments_lexer": "ipython3",
   "version": "3.8.0"
  }
 },
 "nbformat": 4,
 "nbformat_minor": 4
}
